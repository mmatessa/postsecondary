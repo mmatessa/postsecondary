# For use in Google CoLab environment
# Merges data from Integrated Public Use Microdata Series (IPUMS) and County Health Rankings (CHR)
import pandas as pd
import numpy as np
import gzip
from google.colab import files

# === STEP 1: Upload and Read IPUMS File ===
print("🔼 Upload your IPUMS .dat.gz file")
uploaded = files.upload()
ipums_filename = list(uploaded.keys())[0]

# Define fixed-width specs based on IPUMS description
colspecs = [
    (0, 4),   # YEAR
    (4, 10),  # SAMPLE
    (10, 18), # SERIAL
    (54, 56), # STATEFIP
    (56, 59), # COUNTYFIP
    (71, 72), # GQ
    (72, 76), # PERNUM
    (76, 86), # PERWT
    (86, 87), # HCOVANY
    (87, 89), # EDUC
    (89, 92)  # EDUCD
]
column_names = [
    'YEAR', 'SAMPLE', 'SERIAL', 'STATEFIP', 'COUNTYFIP',
    'GQ', 'PERNUM', 'PERWT', 'HCOVANY', 'EDUC', 'EDUCD'
]

with gzip.open(ipums_filename, 'rt') as f:
    df_ipums = pd.read_fwf(f, colspecs=colspecs, names=column_names)

# Keep only valid households (GQ 1, 2, 5)
df_ipums = df_ipums[df_ipums['GQ'].isin([1, 2, 5])].copy()

# Calculate education and insurance rates by STATE (not county)
edu = df_ipums.groupby('STATEFIP')['EDUC'].mean().reset_index(name='education')
ins = df_ipums.groupby('STATEFIP')['HCOVANY'].apply(lambda x: (x == 2).mean()).reset_index(name='insured_rate')
ipums_summary = pd.merge(edu, ins, on='STATEFIP')

# === STEP 2: Upload and Read County Health Rankings CSV ===
print("\n🔼 Upload your County Health Rankings CSV (e.g. 'analytic_data2023_0.csv')")
uploaded = files.upload()
health_filename = list(uploaded.keys())[0]

df_health = pd.read_csv(health_filename, low_memory=False, encoding='ISO-8859-1')

# Clean and validate FIPS codes
df_health['FIPS'] = df_health['5-digit FIPS Code'].astype(str).str.zfill(5)
# Remove rows with invalid FIPS codes (non-numeric or wrong length)
df_health = df_health[df_health['FIPS'].str.len() == 5]
df_health = df_health[df_health['FIPS'].str.isnumeric()]
df_health['STATEFIP'] = df_health['FIPS'].str[:2].astype(int)

df_health['homicides'] = pd.to_numeric(df_health['Homicides raw value'], errors='coerce')
df_health['population'] = pd.to_numeric(df_health['Population raw value'], errors='coerce')

# Calculate homicide rate per 100k for each county first
df_health['homicide_rate_per_100k'] = np.where(
    (df_health['population'] > 0) & df_health['homicides'].notna(),
    df_health['homicides'] / df_health['population'] * 100000,
    np.nan
)

# Aggregate homicide data by state - using population-weighted average
df_health_clean = df_health.dropna(subset=['homicides', 'population'])
df_health_clean = df_health_clean[df_health_clean['population'] > 0]

# Calculate state-level homicide rates by summing homicides and populations
state_homicide = df_health_clean.groupby('STATEFIP').agg({
    'homicides': 'sum',
    'population': 'sum'
}).reset_index()

state_homicide['homicides'] = (
    state_homicide['homicides'] / state_homicide['population'] * 100000
)

print(f"\n📊 Homicide data debug:")
print(f"Counties with homicide data: {len(df_health_clean)}")
print(f"States with homicide data: {len(state_homicide)}")
print(f"State homicide sample:\n{state_homicide.head()}")

# Keep only relevant columns
homicide = state_homicide[['STATEFIP', 'homicides']]

# === STEP 3: Merge All and Format ===
print(f"\n📊 Debug Info:")
print(f"IPUMS states: {sorted(ipums_summary['STATEFIP'].unique())}")
print(f"Health states: {sorted(homicide['STATEFIP'].unique())}")
print(f"IPUMS summary shape: {ipums_summary.shape}")
print(f"Homicide data shape: {homicide.shape}")

combined = pd.merge(ipums_summary, homicide, on='STATEFIP', how='inner')
print(f"Combined data shape: {combined.shape}")

# If no homicide data merged, try left join to see what's missing
if 'homicides' not in combined.columns or combined['homicides'].isna().all():
    print("\n⚠️  No homicide data merged. Trying left join...")
    combined = pd.merge(ipums_summary, homicide, on='STATEFIP', how='left')
    print(f"Left join shape: {combined.shape}")
    print(f"Missing homicide data for {combined['homicides'].isna().sum()} states")

# Map state codes to names
state_names = {
    1: 'Alabama', 2: 'Alaska', 4: 'Arizona', 5: 'Arkansas', 6: 'California',
    8: 'Colorado', 9: 'Connecticut', 10: 'Delaware', 11: 'District of Columbia',
    12: 'Florida', 13: 'Georgia', 15: 'Hawaii', 16: 'Idaho', 17: 'Illinois',
    18: 'Indiana', 19: 'Iowa', 20: 'Kansas', 21: 'Kentucky', 22: 'Louisiana',
    23: 'Maine', 24: 'Maryland', 25: 'Massachusetts', 26: 'Michigan',
    27: 'Minnesota', 28: 'Mississippi', 29: 'Missouri', 30: 'Montana',
    31: 'Nebraska', 32: 'Nevada', 33: 'New Hampshire', 34: 'New Jersey',
    35: 'New Mexico', 36: 'New York', 37: 'North Carolina', 38: 'North Dakota',
    39: 'Ohio', 40: 'Oklahoma', 41: 'Oregon', 42: 'Pennsylvania',
    44: 'Rhode Island', 45: 'South Carolina', 46: 'South Dakota',
    47: 'Tennessee', 48: 'Texas', 49: 'Utah', 50: 'Vermont', 51: 'Virginia',
    53: 'Washington', 54: 'West Virginia', 55: 'Wisconsin', 56: 'Wyoming'
}
combined['state'] = combined['STATEFIP'].map(state_names)

# === STEP 4: Display Final Table ===
display_cols = ['state', 'education', 'insured_rate', 'homicides']
# Sort by education level in descending order
combined_sorted = combined[display_cols].sort_values('education', ascending=False)
print("\n📄 State-Level Summary Table (sorted by education level):")
print(combined_sorted.round(4))

# Save to CSV
combined_sorted.to_csv('state_summary_table.csv', index=False)
print("\n✅ Saved: state_summary_table.csv")
