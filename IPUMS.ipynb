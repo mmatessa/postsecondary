#For use in Google CoLab environment
#Shows the correlation between postsecondary education and health insurance coverage by state

import pandas as pd
import gzip
import matplotlib.pyplot as plt
import seaborn as sns

# Upload your file first
from google.colab import files
uploaded = files.upload()
filename = list(uploaded.keys())[0]

# Define the column specifications based on your codebook
colspecs = [
    (54, 56),  # STATEFIP - Columns 55-56 (0-indexed, so 54-56)
    (88, 89),  # HCOVANY - Column 89 (0-indexed, so 88-89)
    (89, 91),  # EDUC - Columns 90-91 (0-indexed, so 89-91)
    (91, 94)   # EDUCD - Columns 92-94 (0-indexed, so 91-94)
]

column_names = ['STATEFIP', 'HCOVANY', 'EDUC', 'EDUCD']

# Read the fixed-width data
print("Reading IPUMS data...")
with gzip.open(filename, 'rt') as f:
    df = pd.read_fwf(f, colspecs=colspecs, names=column_names)

print(f"Data loaded successfully!")
print(f"Shape: {df.shape}")
print(f"Columns: {df.columns.tolist()}")

# Map FIPS codes to state names - using integer keys to match the data format
state_names_map = {
    1: 'Alabama', 2: 'Alaska', 4: 'Arizona', 5: 'Arkansas', 6: 'California',
    8: 'Colorado', 9: 'Connecticut', 10: 'Delaware', 11: 'District of Columbia',
    12: 'Florida', 13: 'Georgia', 15: 'Hawaii', 16: 'Idaho', 17: 'Illinois',
    18: 'Indiana', 19: 'Iowa', 20: 'Kansas', 21: 'Kentucky', 22: 'Louisiana',
    23: 'Maine', 24: 'Maryland', 25: 'Massachusetts', 26: 'Michigan', 27: 'Minnesota',
    28: 'Mississippi', 29: 'Missouri', 30: 'Montana', 31: 'Nebraska', 32: 'Nevada',
    33: 'New Hampshire', 34: 'New Jersey', 35: 'New Mexico', 36: 'New York',
    37: 'North Carolina', 38: 'North Dakota', 39: 'Ohio', 40: 'Oklahoma',
    41: 'Oregon', 42: 'Pennsylvania', 44: 'Rhode Island', 45: 'South Carolina',
    46: 'South Dakota', 47: 'Tennessee', 48: 'Texas', 49: 'Utah', 50: 'Vermont',
    51: 'Virginia', 53: 'Washington', 54: 'West Virginia', 55: 'Wisconsin', 56: 'Wyoming',
    61: 'Maine-New Hampshire-Vermont', 62: 'Massachusetts-Rhode Island',
    63: 'Minnesota-Iowa-Missouri-Kansas-Nebraska-S.Dakota-N.Dakota',
    64: 'Maryland-Delaware', 65: 'Montana-Idaho-Wyoming', 66: 'Utah-Nevada',
    67: 'Arizona-New Mexico', 68: 'Alaska-Hawaii', 72: 'Puerto Rico',
    97: 'Military/Mil. Reservation', 99: 'State not identified'
}

# Debug STATEFIP values before mapping
print("\nDEBUG: STATEFIP values analysis:")
print(f"STATEFIP data type: {df['STATEFIP'].dtype}")
print(f"Unique STATEFIP values: {sorted(df['STATEFIP'].unique())}")
print(f"First 20 STATEFIP values: {df['STATEFIP'].head(20).tolist()}")
print(f"Sample of mapping dictionary keys: {list(state_names_map.keys())[:10]}")

# Apply state name mapping
df['State_Name'] = df['STATEFIP'].map(state_names_map)

# Check how many mapped successfully
mapped_count = df['State_Name'].notna().sum()
total_count = len(df)
print(f"\nMapping results: {mapped_count}/{total_count} ({mapped_count/total_count*100:.1f}%) successfully mapped")

# Show unmapped values
unmapped_values = df[df['State_Name'].isna()]['STATEFIP'].unique()
if len(unmapped_values) > 0:
    print(f"Unmapped STATEFIP values: {sorted(unmapped_values)}")

# Display first few rows
print("\nFirst 10 rows of raw data:")
print(df.head(10))

# Basic data summary
print("\nData Summary:")
print(df.describe())

# Check unique values for each variable
print("\nUnique values in each column:")
for col in df.columns:
    unique_vals = sorted(df[col].unique())
    print(f"{col}: {unique_vals}")

# Create labeled versions based on codebook
print("\nCreating labeled versions...")

# HCOVANY labels
df['HCOVANY_label'] = df['HCOVANY'].map({
    1: 'No health insurance',
    2: 'With health insurance'
})

# EDUC labels (general education)
educ_labels = {
    0: 'N/A or no schooling',
    1: 'Nursery school to grade 4',
    2: 'Grade 5, 6, 7, or 8',
    3: 'Grade 9',
    4: 'Grade 10', 
    5: 'Grade 11',
    6: 'Grade 12',
    7: '1 year of college',
    8: '2 years of college',
    9: '3 years of college',
    10: '4 years of college',
    11: '5+ years of college',
    99: 'Missing'
}
df['EDUC_label'] = df['EDUC'].map(educ_labels)

# Display labeled data
print("\nFirst 10 rows with labels:")
print(df[['HCOVANY', 'HCOVANY_label', 'EDUC', 'EDUC_label', 'EDUCD', 'STATEFIP', 'State_Name']].head(10))

# Basic analysis
print("\n=== BASIC ANALYSIS ===")

# Health insurance coverage
print("\nHealth Insurance Coverage:")
insurance_counts = df['HCOVANY_label'].value_counts()
insurance_pcts = df['HCOVANY_label'].value_counts(normalize=True) * 100
for label, count in insurance_counts.items():
    pct = insurance_pcts[label]
    print(f"  {label}: {count:,} ({pct:.1f}%)")

# Education distribution
print("\nEducation Distribution (General):")
educ_counts = df['EDUC_label'].value_counts().sort_index()
educ_pcts = df['EDUC_label'].value_counts(normalize=True).sort_index() * 100
for label, count in educ_counts.items():
    if pd.notna(label):
        pct = educ_pcts[label]
        print(f"  {label}: {count:,} ({pct:.1f}%)")

# State distribution
print("\nState Distribution:")
state_counts = df['State_Name'].value_counts()
print(f"Top 10 states by sample size:")
for state, count in state_counts.head(10).items():
    pct = (count / len(df)) * 100
    print(f"  {state}: {count:,} ({pct:.1f}%)")

# Cross-tabulation
print("\nHealth Insurance by Education Level:")
crosstab = pd.crosstab(df['EDUC_label'], df['HCOVANY_label'], margins=True)
print(crosstab)

# Percentage cross-tabulation
print("\nHealth Insurance by Education Level (Percentages):")
crosstab_pct = pd.crosstab(df['EDUC_label'], df['HCOVANY_label'], normalize='index') * 100
print(crosstab_pct.round(1))

# State-level summary table
print("\n=== STATE SUMMARY TABLE ===")
print("State Name, Average Education Level, Average Health Coverage Rate")
print("-" * 70)

# Calculate averages by state
state_summary = df.groupby('State_Name').agg({
    'EDUC': 'mean',
    'HCOVANY': lambda x: (x == 2).mean() * 100
}).round(2)

# Rename columns for clarity
state_summary.columns = ['Avg_Education_Level', 'Health_Coverage_Rate_Pct']

# Sort by education level
state_summary = state_summary.sort_values('Avg_Education_Level', ascending=False)

# Display the table
for state, row in state_summary.iterrows():
    print(f"{state:<35} {row['Avg_Education_Level']:>8.2f} {row['Health_Coverage_Rate_Pct']:>18.1f}%")

print("-" * 70)
print(f"Total states: {len(state_summary)}")

# Also create a pandas DataFrame for easy viewing
print("\nAs DataFrame:")
print(state_summary)

print(f"\nTotal sample size: {len(df):,} individuals")
print(f"Number of states represented: {df['State_Name'].nunique()}")

# Calculate correlation between average education level and health insurance coverage rate
correlation = state_summary['Avg_Education_Level'].corr(state_summary['Health_Coverage_Rate_Pct'])

print(f"Correlation between average education level and health insurance rate: {correlation:.3f}")

# Optional: Plot it
plt.figure(figsize=(10, 6))
sns.regplot(data=state_summary, x='Avg_Education_Level', y='Health_Coverage_Rate_Pct', scatter_kws={'s': 50})
plt.title('Education Level vs Health Insurance Coverage Rate by State')
plt.xlabel('Average Education Level (EDUC code)')
plt.ylabel('Health Insurance Coverage Rate (%)')
plt.grid(True)
plt.tight_layout()
plt.show()

print("Analysis complete!")
